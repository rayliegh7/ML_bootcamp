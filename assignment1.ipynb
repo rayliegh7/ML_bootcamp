{
 "cells": [
  {
   "cell_type": "markdown",
   "id": "37f6af0e-5f26-40b3-a7e9-44829dd6b6d6",
   "metadata": {},
   "source": [
    "1. In the below elements which of them are values or an expression? eg:- values can be integer or string and expressions will be mathematical operators.\n",
    "* \n",
    "'hello'\n",
    "-87.8\n",
    "- \n",
    "/ \n",
    "+\t\n",
    "6 \n"
   ]
  },
  {
   "cell_type": "raw",
   "id": "afbe24d8-e7fa-4558-849c-e008c21aee8f",
   "metadata": {},
   "source": [
    "ANS: Values: 6, -87.8, 'hello'\n",
    "Expressions: * , - , / ,+\n"
   ]
  },
  {
   "cell_type": "markdown",
   "id": "817bfe04-3a21-462e-a88c-b24859b40462",
   "metadata": {},
   "source": [
    "2. What is the difference between string and variable."
   ]
  },
  {
   "cell_type": "raw",
   "id": "8aca3ddf-44a1-40bb-b7b6-cdf2559d1134",
   "metadata": {},
   "source": [
    "ANS: Basically variable are container that store the data. Variables gets created when we assign a value\n",
    " for example a=10 where a is variable that holds   integer value 10 \n",
    "but string are the data type of python  that contain letter or character which are enclosed by “ “ or    ‘   ‘\n",
    "For example: a=’10’\n",
    "Where  a  is variable that hold value 10 but when we run type(a) we get data type of a is string because 10 is enclosed in ‘ ‘ \n"
   ]
  },
  {
   "cell_type": "markdown",
   "id": "bc254f34-7878-482c-8cbc-4c584422fe0f",
   "metadata": {},
   "source": [
    "3. Describe three different data types."
   ]
  },
  {
   "cell_type": "raw",
   "id": "c24d918f-11f5-483c-82c6-68359b75ad84",
   "metadata": {},
   "source": [
    "ANS: Python Data Types are used to define the type of a variable. There are basic built in data-types means they already define python as given below:\n",
    "1) One of  the python feature is python is dynamically type  language means we don’t need to define data types of variable its determine when we assign any variable .\n",
    "2) as similar to other programing language python contain  data types like number ,string, sequence and so. Python numeric data types store numeric values. Number objects are created when you assign a value to them , where python numeric  data types further classified into three sub category as integer , float, complex . \n",
    "3) when any variable contain  whole number like 1 to n then data type of that variable will be integer .if variable contain float or decimal value then data types of that variable will be float . if variable contain expression of complex number (a +bi) where i is iota  in python instead of i we used j for example 3+j\n",
    "4) if we want to assign character or letter or word then we just assign value to variable but enclosed by double quote or single quote but in python don’t support character data type for declare character for example a=’H’ or a=”h”\n",
    "5)   Sequence is the ordered collection of similar or different data types means they are  iterable (we can access each and every element using for loop ,while loop and  we can also perform slicing, for slicing we use index number that ranges from  0 to n that known as positive indexing or forward indexing  if we  want  perform negative index then we used index number from n to 0.\n",
    "6) list is collection of object with  similar or different  data type which is enclosed by []  and each element  is seprated by , ,basically un python list can be consider s a array syntax for list decleartion is: l=[1,2,’hello’,8,]\n",
    "7) tuple are similar to list but difference is were element is enclosed by ().\n"
   ]
  },
  {
   "cell_type": "markdown",
   "id": "635e33e5-b38a-4b0f-aa49-e78efe713fef",
   "metadata": {},
   "source": [
    "4.  What is an expression made up of? What do all expressions do?"
   ]
  },
  {
   "cell_type": "raw",
   "id": "1cf10edf-dccd-4ebe-9fea-18496900c333",
   "metadata": {},
   "source": [
    "ANS: A expression can be defined as combination of operator and operand , operand can be define as The values that an operator acts on are called operands for example a+b where a and b is operand + sign is operator and their sum will be store into variable c."
   ]
  },
  {
   "cell_type": "markdown",
   "id": "58b0954a-47c7-4d6c-b57b-fddaa87ea72f",
   "metadata": {},
   "source": [
    "5.  This assignment statements, like spam = 10. What is the difference between an expression and a statement?"
   ]
  },
  {
   "cell_type": "markdown",
   "id": "89519990-6af5-40cb-aa1d-da8edafbb98d",
   "metadata": {},
   "source": [
    "ANS:ANS: assignment operator used for assign  literal, value of a variable, the result of any expression or the return value of a method to a variable means that variable act as container that holds any value for assign value to variable ‘=’ sign used  \n",
    "Expression is combination of operators and operand and there output will be store into variable \n",
    " Consider A=(2+3)*5-1  this is example of   assignment statement before assignment there is expression is evaluated  \n"
   ]
  },
  {
   "cell_type": "markdown",
   "id": "be8b26d4-6c0d-4dc9-a22f-c066001972a3",
   "metadata": {},
   "source": [
    "6. After running the following code, what does the variable bacon contain?\n",
    "bacon = 22\n",
    "bacon + 1 \n"
   ]
  },
  {
   "cell_type": "markdown",
   "id": "cd856a36-ef10-4e7c-be56-edcf77760efc",
   "metadata": {},
   "source": [
    "ANS:ANS:  After running given code then output will be 23 , but value of variable name as bacon contain same value that we have been assign means 22. Because if we store output of bacon+1 into bacon then will be value of bacon will be change "
   ]
  },
  {
   "cell_type": "markdown",
   "id": "6250b257-fbf5-49a4-b287-3f0ca945a670",
   "metadata": {},
   "source": [
    "7. What should the values of the following two terms be?\n",
    "'spam' + 'spamspam'\n",
    "'spam' * 3\n"
   ]
  },
  {
   "cell_type": "raw",
   "id": "f7a41655-649e-49e4-bd45-63c6d85b9666",
   "metadata": {},
   "source": [
    "ANS:spamspamspam"
   ]
  },
  {
   "cell_type": "markdown",
   "id": "2acdd0e6-8704-4f09-a498-6cad61352467",
   "metadata": {},
   "source": [
    "8. Why is eggs a valid variable name while 100 is invalid?"
   ]
  },
  {
   "cell_type": "raw",
   "id": "e38f9e3b-771c-47c9-9a91-818c7bb2e24e",
   "metadata": {},
   "source": [
    "ANS: because variable name can’t start with  numbers or integer "
   ]
  },
  {
   "cell_type": "markdown",
   "id": "0b14328d-f268-4783-8b13-a5a6c0c19a02",
   "metadata": {},
   "source": [
    "9. What three functions can be used to get the integer, floating-point number, or string version of a value?\n",
    "ANS : strr(),int(),float()\n",
    "for example:"
   ]
  },
  {
   "cell_type": "code",
   "execution_count": null,
   "id": "57254a89-7250-46c5-939d-66112558cac0",
   "metadata": {},
   "outputs": [],
   "source": [
    "# Converting to integer\n",
    "int_value = int(10)\n",
    "print(type(int_value))\n",
    "#Converting to float\n",
    "float_value = float(10)\n",
    "print(type(float_value ))\n",
    "#Converting to String\n",
    "string_value = str(10)"
   ]
  },
  {
   "cell_type": "markdown",
   "id": "962c77be-6feb-49ff-a3bd-a4e165a874aa",
   "metadata": {},
   "source": [
    "10. Why does this expression cause an error? How can you fix it?\n",
    "'I have eaten ' + 99 + ' burritos.'\n"
   ]
  },
  {
   "cell_type": "markdown",
   "id": "96df489a-490a-4fa8-9097-163164cdfa40",
   "metadata": {},
   "source": [
    "ANS: the given expression  'I have eaten ' + 99 + ' burritos.' Cause  error because we cant concatenated integer with string here given example contain 99 as integer if we want to concatenated string with integer so we can done using following ways.\n",
    "1)\tUsing type casting :\n",
    "'I have eaten ' + str(99) + ' burritos.'\n",
    "In above expression we change data type  of 99 into integer \n",
    "2)\tSome changes in expression:\n",
    "'I have eaten 99’ + ' burritos.'\n"
   ]
  }
 ],
 "metadata": {
  "kernelspec": {
   "display_name": "Python 3 (ipykernel)",
   "language": "python",
   "name": "python3"
  },
  "language_info": {
   "codemirror_mode": {
    "name": "ipython",
    "version": 3
   },
   "file_extension": ".py",
   "mimetype": "text/x-python",
   "name": "python",
   "nbconvert_exporter": "python",
   "pygments_lexer": "ipython3",
   "version": "3.10.6"
  }
 },
 "nbformat": 4,
 "nbformat_minor": 5
}
