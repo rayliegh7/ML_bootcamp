{
 "cells": [
  {
   "cell_type": "markdown",
   "id": "98168bc6",
   "metadata": {},
   "source": [
    "# 1. What does an empty dictionary's code look like?\n",
    "\n",
    "\n",
    "\n"
   ]
  },
  {
   "cell_type": "code",
   "execution_count": 2,
   "id": "e66354fd",
   "metadata": {},
   "outputs": [
    {
     "name": "stdout",
     "output_type": "stream",
     "text": [
      "<class 'dict'>\n"
     ]
    }
   ],
   "source": [
    "# to create an empty dictionary is syntax similar to an empty list just in the insted of square bracket we used paranthese\n",
    "d1={}\n",
    "print(type(d1))"
   ]
  },
  {
   "cell_type": "markdown",
   "id": "340ad978",
   "metadata": {},
   "source": [
    "# 2. What is the value of a dictionary value with the key 'foo' and the value 42?"
   ]
  },
  {
   "cell_type": "code",
   "execution_count": 15,
   "id": "2f146438",
   "metadata": {},
   "outputs": [
    {
     "name": "stdout",
     "output_type": "stream",
     "text": [
      "42\n",
      "dict_values([42])\n"
     ]
    }
   ],
   "source": [
    "# according to question our dictionary will look like these\n",
    "d={'foo':42}\n",
    "print(d['foo'])\n",
    "print(d.values())"
   ]
  },
  {
   "cell_type": "markdown",
   "id": "820f0462",
   "metadata": {},
   "source": [
    "# 3. What is the most significant distinction between a dictionary and a list?"
   ]
  },
  {
   "cell_type": "code",
   "execution_count": null,
   "id": "dfa0d278",
   "metadata": {},
   "outputs": [],
   "source": [
    "# list are collection of ordered data or items  and enclosed by []\n",
    "l1=[1,2,3,4]\n",
    "# dictionary are key value pair wchich enclosed by {} \n",
    "my_dict = {'foo': 42, 'bar': 'hello', 'baz': [1, 2, 3]}\n",
    "# we can access list element usin indexing \n",
    "print(l1[0])\n",
    "# we cant use indexing to access value as insted we can use keys or .keys() method( for only one dictionary)\n",
    "print(my_dict['foo'])\n",
    "# list are slicable \n",
    "print(l1=[0:])\n",
    "# dictionary are not slicable\n"
   ]
  },
  {
   "cell_type": "markdown",
   "id": "2f1cbffe",
   "metadata": {},
   "source": [
    "# 4. What happens if you try to access spam['foo'] if spam is {'bar': 100}?"
   ]
  },
  {
   "cell_type": "code",
   "execution_count": null,
   "id": "af354370",
   "metadata": {},
   "outputs": [],
   "source": [
    "# if we try to access spam['foo'] that will rise a  keyerror because our dict don't contain foo key "
   ]
  },
  {
   "cell_type": "code",
   "execution_count": 20,
   "id": "a6453162",
   "metadata": {},
   "outputs": [
    {
     "ename": "KeyError",
     "evalue": "'foo'",
     "output_type": "error",
     "traceback": [
      "\u001b[1;31m---------------------------------------------------------------------------\u001b[0m",
      "\u001b[1;31mKeyError\u001b[0m                                  Traceback (most recent call last)",
      "\u001b[1;32m~\\AppData\\Local\\Temp\\ipykernel_8620\\326573644.py\u001b[0m in \u001b[0;36m<module>\u001b[1;34m\u001b[0m\n\u001b[0;32m      1\u001b[0m \u001b[0mspam\u001b[0m\u001b[1;33m=\u001b[0m\u001b[1;33m{\u001b[0m\u001b[1;34m'bar'\u001b[0m\u001b[1;33m:\u001b[0m\u001b[1;36m100\u001b[0m\u001b[1;33m}\u001b[0m\u001b[1;33m\u001b[0m\u001b[1;33m\u001b[0m\u001b[0m\n\u001b[1;32m----> 2\u001b[1;33m \u001b[0mprint\u001b[0m\u001b[1;33m(\u001b[0m\u001b[0mspam\u001b[0m\u001b[1;33m[\u001b[0m\u001b[1;34m'foo'\u001b[0m\u001b[1;33m]\u001b[0m\u001b[1;33m)\u001b[0m\u001b[1;33m\u001b[0m\u001b[1;33m\u001b[0m\u001b[0m\n\u001b[0m",
      "\u001b[1;31mKeyError\u001b[0m: 'foo'"
     ]
    }
   ],
   "source": [
    "spam={'bar':100}\n",
    "print(spam['foo'])"
   ]
  },
  {
   "cell_type": "markdown",
   "id": "f2214754",
   "metadata": {},
   "source": [
    "# 5. If a dictionary is stored in spam, what is the difference between the expressions 'cat' in spam and 'cat' in spam.keys()?"
   ]
  },
  {
   "cell_type": "code",
   "execution_count": 4,
   "id": "6a92a48f",
   "metadata": {},
   "outputs": [],
   "source": [
    "spam={'cat':1}"
   ]
  },
  {
   "cell_type": "code",
   "execution_count": 9,
   "id": "ae84a773",
   "metadata": {},
   "outputs": [
    {
     "name": "stdout",
     "output_type": "stream",
     "text": [
      "True\n",
      "True\n"
     ]
    }
   ],
   "source": [
    "# membership operetor return True if item will be available in any iterables(string,list,tuple,set,dictionary)\n",
    "print('cat' in spam)\n",
    "# spam.keys() methods return all keys if we chech 'cat' in keys that returns true because cat is key\n",
    "print('cat' in spam.keys())"
   ]
  },
  {
   "cell_type": "markdown",
   "id": "aca87987",
   "metadata": {},
   "source": [
    "# 6. If a dictionary is stored in spam, what is the difference between the expressions 'cat' in spam and 'cat' in spam.values()?"
   ]
  },
  {
   "cell_type": "code",
   "execution_count": 11,
   "id": "98de89fd",
   "metadata": {},
   "outputs": [
    {
     "name": "stdout",
     "output_type": "stream",
     "text": [
      "True\n",
      "False\n"
     ]
    }
   ],
   "source": [
    "# membership operetor return True if item will be available in any iterables(string,list,tuple,set,dictionary)\n",
    "print('cat' in spam)\n",
    "# spam.values () methods return all keys if we check 'cat' in values that returns fasle because cat is value\n",
    "print('cat' in spam.values())"
   ]
  },
  {
   "cell_type": "markdown",
   "id": "be2dcb0f",
   "metadata": {},
   "source": [
    "# 7. What is a shortcut for the following code?"
   ]
  },
  {
   "cell_type": "code",
   "execution_count": 12,
   "id": "99e6420e",
   "metadata": {},
   "outputs": [],
   "source": [
    "if 'color' not in spam:\n",
    "    spam['color'] = 'black'\n"
   ]
  },
  {
   "cell_type": "code",
   "execution_count": 13,
   "id": "f8ae3310",
   "metadata": {},
   "outputs": [
    {
     "data": {
      "text/plain": [
       "{'cat': 100, 'color': 'black'}"
      ]
     },
     "execution_count": 13,
     "metadata": {},
     "output_type": "execute_result"
    }
   ],
   "source": [
    "spam ={'cat':100}\n",
    "spam.setdefault('color','black')\n",
    "spam"
   ]
  },
  {
   "cell_type": "markdown",
   "id": "846dbea8",
   "metadata": {},
   "source": [
    "# 8. How do you \"pretty print\" dictionary values using which module and function?"
   ]
  },
  {
   "cell_type": "code",
   "execution_count": 14,
   "id": "a596f7ab",
   "metadata": {},
   "outputs": [],
   "source": [
    " d1=[ {'Name': 'anny', 'Age': '23'},\n",
    "  {'Name': 'vicky', 'Age': '44'},\n",
    "  {'Name': 'sam', 'Age': '29'},\n",
    "  {'Name': 'shaw', 'Age': '22'}\n",
    "]"
   ]
  },
  {
   "cell_type": "code",
   "execution_count": 16,
   "id": "4148b272",
   "metadata": {},
   "outputs": [
    {
     "name": "stdout",
     "output_type": "stream",
     "text": [
      "[{'Age': '23', 'Name': 'anny'},\n",
      " {'Age': '44', 'Name': 'vicky'},\n",
      " {'Age': '29', 'Name': 'sam'},\n",
      " {'Age': '22', 'Name': 'shaw'}]\n"
     ]
    }
   ],
   "source": [
    "import pprint\n",
    "pprint.pprint(d1)"
   ]
  },
  {
   "cell_type": "code",
   "execution_count": 17,
   "id": "2edc3e3b",
   "metadata": {},
   "outputs": [
    {
     "name": "stdout",
     "output_type": "stream",
     "text": [
      "[{'Name': 'anny', 'Age': '23'}, {'Name': 'vicky', 'Age': '44'}, {'Name': 'sam', 'Age': '29'}, {'Name': 'shaw', 'Age': '22'}]\n"
     ]
    }
   ],
   "source": [
    "print(d1)"
   ]
  }
 ],
 "metadata": {
  "kernelspec": {
   "display_name": "Python 3 (ipykernel)",
   "language": "python",
   "name": "python3"
  },
  "language_info": {
   "codemirror_mode": {
    "name": "ipython",
    "version": 3
   },
   "file_extension": ".py",
   "mimetype": "text/x-python",
   "name": "python",
   "nbconvert_exporter": "python",
   "pygments_lexer": "ipython3",
   "version": "3.9.13"
  }
 },
 "nbformat": 4,
 "nbformat_minor": 5
}
