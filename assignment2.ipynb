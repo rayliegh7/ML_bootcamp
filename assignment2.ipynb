{
 "cells": [
  {
   "cell_type": "markdown",
   "id": "9335b2e9-f376-4315-9ccd-8151fa31a87a",
   "metadata": {},
   "source": [
    "1. What are the two values of the Boolean data type? How do you write them?"
   ]
  },
  {
   "cell_type": "raw",
   "id": "06744506-8cec-4428-90b3-58b25c6b0e30",
   "metadata": {},
   "source": [
    "ANS: The value of Boolean data type is  depend on condition is either true or false in python Boolean data type is written True and False "
   ]
  },
  {
   "cell_type": "markdown",
   "id": "ac6e8391-d883-4b8d-8a17-eddd8b68c853",
   "metadata": {},
   "source": [
    "2. What are the three different types of Boolean operators?"
   ]
  },
  {
   "cell_type": "raw",
   "id": "49eed483-eb1c-4c91-b73d-b70b8879d24a",
   "metadata": {},
   "source": [
    "ANS: there are three types of Boolean data type these are and, or and not  "
   ]
  },
  {
   "cell_type": "markdown",
   "id": "7eeecbe0-a1d5-41fc-8f02-23ecb4eb83b6",
   "metadata": {},
   "source": [
    "3. Make a list of each Boolean operator's truth tables (i.e. every possible combination of Boolean values for the operator and what it evaluate )."
   ]
  },
  {
   "cell_type": "raw",
   "id": "aacf0934-4b25-45f9-8c64-a3dd39231157",
   "metadata": {},
   "source": [
    "ANS: first we go with and operator The and operator takes two arguments. It evaluates to False unless both inputs are True. You could define the behaviour of and with the following truth table:  "
   ]
  },
  {
   "cell_type": "raw",
   "id": "7e5ab956-9e7e-4bb3-90ba-f234a0e3561c",
   "metadata": {},
   "source": [
    "Consider true =0 and false=1\n",
    "1 and 1=1\n",
    "1 and 0=0\n",
    "0 and 1=0\n",
    "0 and 0=0\n",
    "Or operator:  The value of the or operator is True unless both of its inputs are False. The or operator could also be defined by the following truth table:\n",
    "1 or 1=1\n",
    "1 or 0=1\n",
    "0 or 1=1\n",
    "0 or 0=0\n",
    "Not operator: The only Boolean operator with one argument is not. It takes one argument and returns the opposite result: False for True and True for False. Here it is in a truth table:\n",
    "Not 1=0\n",
    "Not 0 =1\n"
   ]
  },
  {
   "cell_type": "markdown",
   "id": "a08ee72d-bac8-4c1e-8868-41bc8e7fb1de",
   "metadata": {},
   "source": [
    "4. What are the values of the following expressions?"
   ]
  },
  {
   "cell_type": "raw",
   "id": "6c13c124-fbac-4891-a5bc-bfd6f45a917a",
   "metadata": {},
   "source": [
    "(5 > 4) and (3 == 5)\n",
    "not (5 > 4)\n",
    "(5 > 4) or (3 == 5)\n",
    "not ((5 > 4) or (3 == 5))\n",
    "(True and True) and (True == False)\n",
    "(not False) or (not True)\n",
    "ANS: \n",
    "(5 > 4) and (3 == 5)\n",
    "Values of above expression will be false because  consider 5>4  expression value for that expression is True but value for 3==5 expression is False here we used and operator between both of them so we check truth table for that 1 and 0 then output will be false (0)\n",
    "not (5 > 4)\n",
    "the value for above expression is false because here we used not operator , that return opposite value \n",
    "(5 > 4) or (3 == 5)\n",
    "The value of above expression is true because here we used or between them  as we know or operator return true if any condition is true  \n",
    "not ((5 > 4) or (3 == 5))\n",
    "The value of  above expression is false, cause  for previous expression value is false ,their not operator that return opposite output\n",
    "(True and True) and (True == False)\n",
    "For above expression is false \n",
    "(not False) or (not True)\n",
    "Above expression value is true\n",
    "\n"
   ]
  },
  {
   "cell_type": "markdown",
   "id": "dde2b1eb-4d46-4e92-b1ff-6936583ab004",
   "metadata": {},
   "source": [
    "5. What are the six comparison operators?\n",
    "< ,>, <=,>=,==,!=  \n"
   ]
  },
  {
   "cell_type": "markdown",
   "id": "40cca134-2f62-4c17-b774-1f05fca959f2",
   "metadata": {},
   "source": [
    "6. How do you tell the difference between the equal to and assignment operators?Describe a condition and when you would use one.\n",
    "ANS : in python if we want to check whether  two number are same or not then  then we used == operators , and = is a assignment operator that stores a value into variable \n"
   ]
  },
  {
   "cell_type": "markdown",
   "id": "b7b68096-178d-46bf-b15f-c3c9a7903fcd",
   "metadata": {},
   "source": [
    "7. Identify the three blocks in this code:\n",
    "spam = 0\n",
    "if spam == 10:\n",
    "print('eggs')\n",
    "if spam > 5:\n",
    "print('bacon')\n",
    "else:\n",
    "print('ham')\n",
    "print('spam')\n",
    "print('spam')"
   ]
  },
  {
   "cell_type": "raw",
   "id": "553ef6c6-7e41-45ea-b409-76770ffce45d",
   "metadata": {},
   "source": [
    "ANS: there are three blocks. everything inside the if statement is block ,block in python can be function,class, statment enclosed by 4 space or 1 tab . so in given program "
   ]
  },
  {
   "cell_type": "code",
   "execution_count": 29,
   "id": "c78571ba-63ff-4705-9451-478e760a885f",
   "metadata": {},
   "outputs": [
    {
     "name": "stdout",
     "output_type": "stream",
     "text": [
      "ham\n",
      "spam\n",
      "spam\n"
     ]
    }
   ],
   "source": [
    "spam = 0\n",
    "if spam == 10:\n",
    "    print('eggs')#block 1\n",
    "if spam > 5:\n",
    "    print('bacon')# block 2\n",
    "else:\n",
    "    print('ham')\n",
    "    print('spam') #block3\n",
    "    print('spam')"
   ]
  },
  {
   "cell_type": "markdown",
   "id": "77763102-2756-4268-bc75-4b48031dae16",
   "metadata": {},
   "source": [
    "8. Write code that prints Hello if 1 is stored in spam, prints Howdy if 2 is stored in spam, and prints Greetings! if anything else is stored in spam.\n",
    "ANS:"
   ]
  },
  {
   "cell_type": "code",
   "execution_count": 30,
   "id": "37010782-c4cd-455d-807b-242540cb2073",
   "metadata": {},
   "outputs": [
    {
     "name": "stdin",
     "output_type": "stream",
     "text": [
      " 5\n"
     ]
    },
    {
     "name": "stdout",
     "output_type": "stream",
     "text": [
      "Greeting!\n"
     ]
    }
   ],
   "source": [
    "spam=int(input())\n",
    "if spam==1:\n",
    "    print('hello')\n",
    "elif spam==2:\n",
    "    print('howdy')\n",
    "else:\n",
    "    print('Greeting!')"
   ]
  },
  {
   "cell_type": "markdown",
   "id": "02f63662-620c-4769-9006-289437d175c4",
   "metadata": {},
   "source": [
    "9. If your programme is stuck in an endless loop, what keys you’ll press?\n",
    " ANS : ctrl+c\n"
   ]
  },
  {
   "cell_type": "markdown",
   "id": "f05583de-469f-4094-90cd-cec2253b82cc",
   "metadata": {},
   "source": [
    "10. How can you tell the difference between break and continue?"
   ]
  },
  {
   "cell_type": "raw",
   "id": "381d8c5e-e6ba-4678-8e11-8a2ae3ca7361",
   "metadata": {},
   "source": [
    "ANS: The break statement is used to terminate the loop immediately when it is encountered.\n",
    "for example: in given example when if condition is true then our loop will be terminate "
   ]
  },
  {
   "cell_type": "code",
   "execution_count": 31,
   "id": "25ff51a9-4b55-45f9-a69c-776243da6ac8",
   "metadata": {},
   "outputs": [
    {
     "name": "stdout",
     "output_type": "stream",
     "text": [
      "0 1 2 3 4 5 6 "
     ]
    }
   ],
   "source": [
    "# use of break\n",
    "for i in range(10):\n",
    "    if(i==7):\n",
    "        break\n",
    "    print(i,end=' ')"
   ]
  },
  {
   "cell_type": "markdown",
   "id": "a6e88d41-6f9f-49ed-8ef1-817981f9975d",
   "metadata": {},
   "source": [
    "The continue statement is used to skip the current iteration of the loop and the control flow of the program goes to the next iteration."
   ]
  },
  {
   "cell_type": "code",
   "execution_count": 32,
   "id": "f2afd4ef-facc-45f0-b98b-495b47291c6b",
   "metadata": {},
   "outputs": [
    {
     "name": "stdout",
     "output_type": "stream",
     "text": [
      "0 1 2 3 4 5 6 8 9 "
     ]
    }
   ],
   "source": [
    "# use of continue\n",
    "for i in range(10):\n",
    "    if(i==7):\n",
    "        continue\n",
    "    print(i,end=' ')"
   ]
  },
  {
   "cell_type": "markdown",
   "id": "ee81e6bd-15fa-4978-98b5-1bcd45d4adee",
   "metadata": {},
   "source": [
    "11.  In a for loop, what is the difference between range(10), range(0, 10), and range(0, 10, 1)?"
   ]
  },
  {
   "cell_type": "markdown",
   "id": "e676ad6e-27a3-4bad-8fb4-960b143d18e1",
   "metadata": {},
   "source": [
    "ANS: python range take 3 argument start stop and step by default valuse of start and step is 0 and 1 respectively if we passed only on value in range then it consider it stop ,if we passed 2 values then it consider them start and stop respectively but it itrate until  n-1  ,if we pass 3 then it takes start stop znd step respectively,example given bellow"
   ]
  },
  {
   "cell_type": "code",
   "execution_count": 33,
   "id": "05b9908d-ae94-40ce-8dcb-c7db6d44d451",
   "metadata": {},
   "outputs": [
    {
     "name": "stdout",
     "output_type": "stream",
     "text": [
      "0\n",
      "1\n",
      "2\n",
      "3\n",
      "4\n",
      "5\n",
      "6\n",
      "7\n",
      "8\n",
      "9\n",
      "10\n",
      "using start and stop\n",
      "1\n",
      "2\n",
      "3\n",
      "4\n",
      "5\n",
      "6\n",
      "7\n",
      "8\n",
      "9\n",
      "10\n",
      "using start,stop,end\n",
      "11\n",
      "10\n",
      "9\n",
      "8\n",
      "7\n",
      "6\n",
      "5\n",
      "4\n",
      "3\n",
      "2\n"
     ]
    }
   ],
   "source": [
    "# using stop only\n",
    "for i  in range(11):\n",
    "    print(i)\n",
    "print('using start and stop')\n",
    "for i in range(1,11):\n",
    "    print(i)\n",
    "print('using start,stop,end')\n",
    "for j in range (11,1,-1):\n",
    "    print(j)"
   ]
  },
  {
   "cell_type": "markdown",
   "id": "5750b7f3-c201-45d9-a756-4bc5d420d026",
   "metadata": {},
   "source": [
    "12. Write a short program that prints the numbers 1 to 10 using a for loop. Then write an equivalent program that prints the numbers 1 to 10 using a while loop."
   ]
  },
  {
   "cell_type": "code",
   "execution_count": 34,
   "id": "5825c7d9-0928-4355-aa31-e3845e05242b",
   "metadata": {},
   "outputs": [
    {
     "name": "stdout",
     "output_type": "stream",
     "text": [
      "using for loop\n",
      "1\n",
      "2\n",
      "3\n",
      "4\n",
      "5\n",
      "6\n",
      "7\n",
      "8\n",
      "9\n",
      "10\n",
      "##################################################################\n",
      "using while loop\n",
      "1\n",
      "2\n",
      "3\n",
      "4\n",
      "5\n",
      "6\n",
      "7\n",
      "8\n",
      "9\n",
      "10\n"
     ]
    }
   ],
   "source": [
    "print('using for loop')\n",
    "for i in range(1,11):\n",
    "    print(i)\n",
    "print('##################################################################')\n",
    "print('using while loop')\n",
    "a=0\n",
    "while(a<10):\n",
    "    a+=1\n",
    "    print(a)\n",
    "    "
   ]
  }
 ],
 "metadata": {
  "kernelspec": {
   "display_name": "Python 3 (ipykernel)",
   "language": "python",
   "name": "python3"
  },
  "language_info": {
   "codemirror_mode": {
    "name": "ipython",
    "version": 3
   },
   "file_extension": ".py",
   "mimetype": "text/x-python",
   "name": "python",
   "nbconvert_exporter": "python",
   "pygments_lexer": "ipython3",
   "version": "3.10.6"
  }
 },
 "nbformat": 4,
 "nbformat_minor": 5
}
