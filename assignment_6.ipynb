{
 "cells": [
  {
   "cell_type": "markdown",
   "id": "ef73787a",
   "metadata": {},
   "source": [
    "# 1. What are escape characters, and how do you use them?"
   ]
  },
  {
   "cell_type": "markdown",
   "id": "8b86e2bb",
   "metadata": {},
   "source": [
    "Escape characters are characters that are used to represent special characters or sequences of characters in a programming language or markup language. They are typically represented by a backslash () followed by another character, such as \\n for a newline or \\t for a tab character."
   ]
  },
  {
   "cell_type": "code",
   "execution_count": 5,
   "id": "12a5c12e",
   "metadata": {},
   "outputs": [
    {
     "name": "stdout",
     "output_type": "stream",
     "text": [
      "hello\n",
      "how are you\n"
     ]
    }
   ],
   "source": [
    "print(\"hello\")\n",
    "print(\"how are you\")"
   ]
  },
  {
   "cell_type": "markdown",
   "id": "c71c034a",
   "metadata": {},
   "source": [
    "# 2. What do the escape characters n and t stand for?"
   ]
  },
  {
   "cell_type": "raw",
   "id": "21a6593e",
   "metadata": {},
   "source": [
    " \\n The new line character helps the programmer to insert a new line before or after a string.\n",
    " \\t the escape character that helps the programmer to print a 4 space after a string"
   ]
  },
  {
   "cell_type": "code",
   "execution_count": 2,
   "id": "3b185d2b",
   "metadata": {},
   "outputs": [
    {
     "name": "stdout",
     "output_type": "stream",
     "text": [
      "\thello\n",
      "how are you\t?\n"
     ]
    }
   ],
   "source": [
    "print(\"\\thello\\nhow are you\\t?\")\n"
   ]
  },
  {
   "cell_type": "markdown",
   "id": "38194594",
   "metadata": {},
   "source": [
    "# 3. What is the way to include backslash characters in a string?"
   ]
  },
  {
   "cell_type": "code",
   "execution_count": 3,
   "id": "ec5738bf",
   "metadata": {},
   "outputs": [
    {
     "name": "stdout",
     "output_type": "stream",
     "text": [
      "its a back slash \\ in a line\n"
     ]
    }
   ],
   "source": [
    "# if we want to include blakslash in string we have to use or add extra blackslash  like this\n",
    "print('its a back slash \\\\ in a line')"
   ]
  },
  {
   "cell_type": "markdown",
   "id": "83c4b2e0",
   "metadata": {},
   "source": [
    "# 4. The string \"Howl's Moving Castle\" is a correct value. Why isn't the single quote character in the word Howl's not escaped a problem?"
   ]
  },
  {
   "cell_type": "code",
   "execution_count": null,
   "id": "4e93045d",
   "metadata": {},
   "outputs": [],
   "source": [
    "The single quote in Howl's is fine because you've used double quotes to mark the beginning and end of the string. \n",
    "like wise we can use double quotes in with single quotes"
   ]
  },
  {
   "cell_type": "code",
   "execution_count": 5,
   "id": "b36e0daf",
   "metadata": {},
   "outputs": [
    {
     "name": "stdout",
     "output_type": "stream",
     "text": [
      "Howl's Moving Castle\n",
      "hey is so 'cool'\n"
     ]
    }
   ],
   "source": [
    "mystr=\"Howl's Moving Castle\"\n",
    "print(mystr)\n",
    "# is also done using\n",
    "print(\"hey is so 'cool'\")"
   ]
  },
  {
   "cell_type": "markdown",
   "id": "f47eb21e",
   "metadata": {},
   "source": [
    "# 5. How do you write a string of newlines if you don't want to use the n character?"
   ]
  },
  {
   "cell_type": "code",
   "execution_count": null,
   "id": "8441f827",
   "metadata": {},
   "outputs": [],
   "source": [
    "if  i wnat to write string in new line withoutusing line so i can use multi line string\n"
   ]
  },
  {
   "cell_type": "code",
   "execution_count": 8,
   "id": "a80ec968",
   "metadata": {},
   "outputs": [
    {
     "name": "stdout",
     "output_type": "stream",
     "text": [
      "is first line\n",
      "is a second line without using n\n"
     ]
    }
   ],
   "source": [
    "multi_line_string='''is first line\n",
    "is a second line without using n'''\n",
    "print(multi_line_string)"
   ]
  },
  {
   "cell_type": "markdown",
   "id": "a17a3081",
   "metadata": {},
   "source": [
    "# 6. What are the values of the given expressions?\n",
    "# 'Hello, world!'[1]\n",
    "# 'Hello, world!'[0:5]\n",
    "# 'Hello, world!'[:5]\n",
    "# 'Hello, world!'[3:]"
   ]
  },
  {
   "cell_type": "markdown",
   "id": "09b55f05",
   "metadata": {},
   "source": [
    "in above question we are doing slicing that helps to get element or data from list or any slicable data type like string,list,tuple and other slicable oject , syntax : var[start:end:step]"
   ]
  },
  {
   "cell_type": "code",
   "execution_count": 17,
   "id": "ce9387ba",
   "metadata": {},
   "outputs": [
    {
     "name": "stdout",
     "output_type": "stream",
     "text": [
      "e\n",
      "Hello\n",
      "Hello\n",
      "lo, world!\n"
     ]
    }
   ],
   "source": [
    "# The original string: 'Hello, world!'\n",
    "print('Hello,world!'[1]) # This expression selects the character at index 1, which is the second character in the string. So the value is 'e'.\n",
    "\n",
    "print('Hello, world!'[0:5]) # This expression selects characters from index 0 to 4 (5 exclusive). It includes characters at indices 0, 1, 2, 3, and 4. So the value is 'Hello'.\n",
    "\n",
    "print('Hello, world!'[:5]) # This expression omits the starting index, which means it starts from the beginning of the string and goes up to index 4 (5 exclusive). So the value is 'Hello'.\n",
    "\n",
    "print('Hello, world!'[3:]) # This expression includes characters starting from index 3 till the end of the string. So the value is 'lo, world!'.\n"
   ]
  },
  {
   "cell_type": "markdown",
   "id": "044eb6db",
   "metadata": {},
   "source": [
    "# 7. What are the values of the following expressions?\n",
    "# 'Hello'.upper()\n",
    "# 'Hello'.upper().isupper()\n",
    "# 'Hello'.upper().lower()"
   ]
  },
  {
   "cell_type": "markdown",
   "id": "f9509ff5",
   "metadata": {},
   "source": [
    "above methods upper,lower return string  in UPPER,lower form resectivey and isupper returns bool means wether is string is upper case in the form of True or False where true inicates they are in upper menas capatlize"
   ]
  },
  {
   "cell_type": "code",
   "execution_count": 18,
   "id": "658ca949",
   "metadata": {},
   "outputs": [
    {
     "name": "stdout",
     "output_type": "stream",
     "text": [
      "HELLO\n",
      "True\n",
      "hello\n"
     ]
    }
   ],
   "source": [
    "print('Hello'.upper()) #  output will be HELLO\n",
    "print('Hello'.upper().isupper()) #true\n",
    "print('Hello'.upper().lower()) # hello"
   ]
  },
  {
   "cell_type": "markdown",
   "id": "82c2f8c7",
   "metadata": {},
   "source": [
    "# 8. What are the values of the following expressions?\n",
    "# 'Remember, remember, the fifth of July.'.split()\n",
    "# '-'.join('There can only one.'.split())"
   ]
  },
  {
   "cell_type": "markdown",
   "id": "65052c1a",
   "metadata": {},
   "source": [
    "the split function help to split string based on the seprator and returns list of string based on seprators like whitespace,tab,',' by default is consider whitespace"
   ]
  },
  {
   "cell_type": "code",
   "execution_count": 22,
   "id": "7be84c70",
   "metadata": {},
   "outputs": [
    {
     "data": {
      "text/plain": [
       "['Remember,', 'remember,', 'the', 'fifth', 'of', 'July.']"
      ]
     },
     "execution_count": 22,
     "metadata": {},
     "output_type": "execute_result"
    }
   ],
   "source": [
    "'Remember, remember, the fifth of July.'.split()\n"
   ]
  },
  {
   "cell_type": "markdown",
   "id": "8e3778e1",
   "metadata": {},
   "source": [
    "The join() method takes the elements of the iterable and concatenates them together into a single string, separated by the specified separator."
   ]
  },
  {
   "cell_type": "code",
   "execution_count": 21,
   "id": "8f1d1032",
   "metadata": {},
   "outputs": [
    {
     "data": {
      "text/plain": [
       "'There-can-only-one.'"
      ]
     },
     "execution_count": 21,
     "metadata": {},
     "output_type": "execute_result"
    }
   ],
   "source": [
    "'-'.join('There can only one.'.split())"
   ]
  },
  {
   "cell_type": "markdown",
   "id": "c9b3b814",
   "metadata": {},
   "source": [
    "# 9 What are the methods for right-justifying, left-justifying, and centering a string?"
   ]
  },
  {
   "cell_type": "raw",
   "id": "d9e5bf21",
   "metadata": {},
   "source": [
    "In Python, you can use the following string methods to right-justify, left-justify, and center a string within a specified width:\n",
    "\n",
    "1. Right-justifying a string: `str.rjust(width, fillchar)`\n",
    "   This method right-justifies the string within a field of the specified `width`, padding the left side with the `fillchar` (which is an optional argument, and by default, it is a space).\n",
    "\n",
    "2. Left-justifying a string: `str.ljust(width, fillchar)`\n",
    "   This method left-justifies the string within a field of the specified `width`, padding the right side with the `fillchar` (which is an optional argument, and by default, it is a space).\n",
    "\n",
    "3. Centering a string: `str.center(width, fillchar)`\n",
    "   This method centers the string within a field of the specified `width`, padding equally on both sides with the `fillchar` (which is an optional argument, and by default, it is a space).\n",
    "\n"
   ]
  },
  {
   "cell_type": "code",
   "execution_count": 28,
   "id": "6c52bed5",
   "metadata": {},
   "outputs": [
    {
     "data": {
      "text/plain": [
       "'vicky-----'"
      ]
     },
     "execution_count": 28,
     "metadata": {},
     "output_type": "execute_result"
    }
   ],
   "source": [
    "str =\"vicky\"\n",
    "str.ljust(10,\"-\")"
   ]
  },
  {
   "cell_type": "code",
   "execution_count": 30,
   "id": "78b2f9b4",
   "metadata": {},
   "outputs": [
    {
     "data": {
      "text/plain": [
       "'     vicky'"
      ]
     },
     "execution_count": 30,
     "metadata": {},
     "output_type": "execute_result"
    }
   ],
   "source": [
    "str =\"vicky\"\n",
    "str.rjust(10)"
   ]
  },
  {
   "cell_type": "code",
   "execution_count": 34,
   "id": "f4be7a7b",
   "metadata": {},
   "outputs": [
    {
     "data": {
      "text/plain": [
       "'--vicky---'"
      ]
     },
     "execution_count": 34,
     "metadata": {},
     "output_type": "execute_result"
    }
   ],
   "source": [
    "str =\"vicky\"\n",
    "str.center(10,\"-\")"
   ]
  },
  {
   "cell_type": "markdown",
   "id": "52d09223",
   "metadata": {},
   "source": [
    "# 10. What is the best way to remove whitespace characters from the start or end?"
   ]
  },
  {
   "cell_type": "markdown",
   "id": "70cbc1f1",
   "metadata": {},
   "source": [
    "The best way to remove whitespace characters (such as spaces, tabs, newlines) from the start or end of a string in Python is by using the strip() method. The strip() method removes leading and trailing whitespace characters from the string and returns the modified string.\n",
    "lstrip: This method removes leading (left) whitespace characters from the string.\n",
    "rstrip: This method removes leading (right) whitespace characters from the string."
   ]
  },
  {
   "cell_type": "code",
   "execution_count": 40,
   "id": "7b014d91",
   "metadata": {},
   "outputs": [
    {
     "data": {
      "text/plain": [
       "'vicky'"
      ]
     },
     "execution_count": 40,
     "metadata": {},
     "output_type": "execute_result"
    }
   ],
   "source": [
    "str='     vicky       '\n",
    "str.strip()"
   ]
  },
  {
   "cell_type": "code",
   "execution_count": 41,
   "id": "a3b62b00",
   "metadata": {},
   "outputs": [
    {
     "data": {
      "text/plain": [
       "'vicky      '"
      ]
     },
     "execution_count": 41,
     "metadata": {},
     "output_type": "execute_result"
    }
   ],
   "source": [
    "str='   vicky      '\n",
    "str.lstrip()   "
   ]
  },
  {
   "cell_type": "code",
   "execution_count": 39,
   "id": "371426af",
   "metadata": {},
   "outputs": [
    {
     "data": {
      "text/plain": [
       "'yytytytyyt mmamamam'"
      ]
     },
     "execution_count": 39,
     "metadata": {},
     "output_type": "execute_result"
    }
   ],
   "source": [
    "str =\"yytytytyyt mmamamam  \"\n",
    "str.rstrip()"
   ]
  }
 ],
 "metadata": {
  "kernelspec": {
   "display_name": "Python 3 (ipykernel)",
   "language": "python",
   "name": "python3"
  },
  "language_info": {
   "codemirror_mode": {
    "name": "ipython",
    "version": 3
   },
   "file_extension": ".py",
   "mimetype": "text/x-python",
   "name": "python",
   "nbconvert_exporter": "python",
   "pygments_lexer": "ipython3",
   "version": "3.9.13"
  }
 },
 "nbformat": 4,
 "nbformat_minor": 5
}
