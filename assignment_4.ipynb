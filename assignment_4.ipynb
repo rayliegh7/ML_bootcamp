{
 "cells": [
  {
   "cell_type": "markdown",
   "id": "8b0e2fb7",
   "metadata": {},
   "source": [
    "1. What exactly is []?"
   ]
  },
  {
   "cell_type": "raw",
   "id": "8f1b66f8",
   "metadata": {},
   "source": [
    "ANS: []is a used to declear a empty list "
   ]
  },
  {
   "cell_type": "markdown",
   "id": "88fdbaa4",
   "metadata": {},
   "source": [
    "2. In a list of values stored in a variable called spam, how would you assign the value 'hello' as the third value? (Assume [2, 4, 6, 8, 10] are in spam.)"
   ]
  },
  {
   "cell_type": "markdown",
   "id": "edeac5df",
   "metadata": {},
   "source": [
    "ANS: to add new element in list at specific position we userd insert method , insert method take 2 argument first one is index number and secon is value .a index numbers start from 0 so we passed 2 as index position and insert method override it"
   ]
  },
  {
   "cell_type": "code",
   "execution_count": 1,
   "id": "566dc977",
   "metadata": {},
   "outputs": [],
   "source": [
    "spam=[2, 4, 6, 8, 10]\n",
    "spam.insert(2,'hello')"
   ]
  },
  {
   "cell_type": "code",
   "execution_count": 2,
   "id": "7bfcc331",
   "metadata": {},
   "outputs": [
    {
     "data": {
      "text/plain": [
       "[2, 4, 'hello', 6, 8, 10]"
      ]
     },
     "execution_count": 2,
     "metadata": {},
     "output_type": "execute_result"
    }
   ],
   "source": [
    "spam"
   ]
  },
  {
   "cell_type": "markdown",
   "id": "ff38c4c9",
   "metadata": {},
   "source": [
    "3. What is the value of spam[int(int('3' * 2) / 11)]?"
   ]
  },
  {
   "cell_type": "raw",
   "id": "40cfdcfc",
   "metadata": {},
   "source": [
    "ANS: lets assume spam valuse is previous value that was spam=[2, 4, 6, 8, 10] , so our answer is index number 3 means spam[3] that will print 8 [int(int('3' * 2) / 11)] first we solve '3'*2 this will '33' after we do type casting that will 33 and leter 33/11 is 3"
   ]
  },
  {
   "cell_type": "code",
   "execution_count": 8,
   "id": "af7316d6",
   "metadata": {},
   "outputs": [
    {
     "data": {
      "text/plain": [
       "8"
      ]
     },
     "execution_count": 8,
     "metadata": {},
     "output_type": "execute_result"
    }
   ],
   "source": [
    "spam=[2, 4, 6, 8, 10]\n",
    "spam[int(int('3' * 2) / 11)]\n"
   ]
  },
  {
   "cell_type": "markdown",
   "id": "b29dcd25",
   "metadata": {},
   "source": [
    "4. What is the value of spam[-1]?"
   ]
  },
  {
   "cell_type": "raw",
   "id": "477dbc85",
   "metadata": {},
   "source": [
    "ANS: negative index is start from -1 to -n for spam[-1] that will print 10  "
   ]
  },
  {
   "cell_type": "code",
   "execution_count": 9,
   "id": "f5cf162d",
   "metadata": {},
   "outputs": [
    {
     "data": {
      "text/plain": [
       "10"
      ]
     },
     "execution_count": 9,
     "metadata": {},
     "output_type": "execute_result"
    }
   ],
   "source": [
    "spam[-1]"
   ]
  },
  {
   "cell_type": "markdown",
   "id": "2337c484",
   "metadata": {},
   "source": [
    "5. What is the value of spam[:2]?\n",
    "Let's pretend bacon has the list [3.14, 'cat,' 11, 'cat,' True] for the next three questions.\n"
   ]
  },
  {
   "cell_type": "raw",
   "id": "bbd54d6f",
   "metadata": {},
   "source": [
    "ANS: for spam[:2]  in python slicing syntax is [start:stop:step] for that question [:2] is consider as stop but not enclusive so these will print index from 0,1 "
   ]
  },
  {
   "cell_type": "code",
   "execution_count": 10,
   "id": "8c3dc13e",
   "metadata": {},
   "outputs": [
    {
     "data": {
      "text/plain": [
       "[2, 4]"
      ]
     },
     "execution_count": 10,
     "metadata": {},
     "output_type": "execute_result"
    }
   ],
   "source": [
    "spam[:2]"
   ]
  },
  {
   "cell_type": "markdown",
   "id": "c12f25ab",
   "metadata": {},
   "source": [
    "6. What is the value of bacon.index('cat')?"
   ]
  },
  {
   "cell_type": "code",
   "execution_count": 13,
   "id": "f0222e0d",
   "metadata": {},
   "outputs": [],
   "source": [
    " bacon=[3.14, 'cat' ,11, 'cat', True]"
   ]
  },
  {
   "cell_type": "raw",
   "id": "3ea6b231",
   "metadata": {},
   "source": [
    "ANS:in python index method will print index number of given element, if list contain repated values then python interpreture will print index number of first occur value then output will 1"
   ]
  },
  {
   "cell_type": "code",
   "execution_count": 14,
   "id": "4a568149",
   "metadata": {},
   "outputs": [
    {
     "data": {
      "text/plain": [
       "1"
      ]
     },
     "execution_count": 14,
     "metadata": {},
     "output_type": "execute_result"
    }
   ],
   "source": [
    " bacon.index('cat')"
   ]
  },
  {
   "cell_type": "markdown",
   "id": "fc0d79cf",
   "metadata": {},
   "source": [
    "7. How does bacon.append(99) change the look of the list value in bacon?"
   ]
  },
  {
   "cell_type": "raw",
   "id": "b122d577",
   "metadata": {},
   "source": [
    "ANS:append method will insert new element at the end of list so bacon will contain bacon=[3.14, 'cat' ,11, 'cat', True,99] "
   ]
  },
  {
   "cell_type": "code",
   "execution_count": 15,
   "id": "852d3ec1",
   "metadata": {},
   "outputs": [],
   "source": [
    " bacon.append(99)"
   ]
  },
  {
   "cell_type": "code",
   "execution_count": 16,
   "id": "643eb992",
   "metadata": {},
   "outputs": [
    {
     "data": {
      "text/plain": [
       "[3.14, 'cat', 11, 'cat', True, 99]"
      ]
     },
     "execution_count": 16,
     "metadata": {},
     "output_type": "execute_result"
    }
   ],
   "source": [
    "bacon"
   ]
  },
  {
   "cell_type": "markdown",
   "id": "1752990f",
   "metadata": {},
   "source": [
    "8. How does bacon.remove('cat') change the look of the list in bacon?"
   ]
  },
  {
   "cell_type": "raw",
   "id": "c3c0b991",
   "metadata": {},
   "source": [
    "ANS: python remove method will remove particular element that we passed as argumentin list if list contain repetated value then it will remove first ocuuring value it will not remove all repated value  for our example remove method will delete first  index of first ocurring of cat element "
   ]
  },
  {
   "cell_type": "code",
   "execution_count": 17,
   "id": "95b78b8d",
   "metadata": {},
   "outputs": [],
   "source": [
    "bacon=[3.14, 'cat' ,11, 'cat', True]"
   ]
  },
  {
   "cell_type": "code",
   "execution_count": 18,
   "id": "ae13a12c",
   "metadata": {},
   "outputs": [],
   "source": [
    " bacon.remove('cat')"
   ]
  },
  {
   "cell_type": "code",
   "execution_count": 19,
   "id": "1212ae83",
   "metadata": {},
   "outputs": [
    {
     "data": {
      "text/plain": [
       "[3.14, 11, 'cat', True]"
      ]
     },
     "execution_count": 19,
     "metadata": {},
     "output_type": "execute_result"
    }
   ],
   "source": [
    "bacon"
   ]
  },
  {
   "cell_type": "markdown",
   "id": "d41d3376",
   "metadata": {},
   "source": [
    "9. What are the list concatenation and list replication operators?"
   ]
  },
  {
   "cell_type": "raw",
   "id": "57b7d6d0",
   "metadata": {},
   "source": [
    " list concatenation:  list concatenation means join two list using '+' operater one after other "
   ]
  },
  {
   "cell_type": "code",
   "execution_count": 20,
   "id": "98a052bd",
   "metadata": {},
   "outputs": [
    {
     "data": {
      "text/plain": [
       "[2, 3, 4, 6, 7, 8]"
      ]
     },
     "execution_count": 20,
     "metadata": {},
     "output_type": "execute_result"
    }
   ],
   "source": [
    "l1=[2,3,4]\n",
    "l2=[6,7,8]\n",
    "l1+l2"
   ]
  },
  {
   "cell_type": "raw",
   "id": "be1952f5",
   "metadata": {},
   "source": [
    "replication operators: the replication operator * can be used to repeat the values of an operand a specified number of times."
   ]
  },
  {
   "cell_type": "code",
   "execution_count": 21,
   "id": "4ca74961",
   "metadata": {},
   "outputs": [
    {
     "data": {
      "text/plain": [
       "[2, 3, 4, 2, 3, 4]"
      ]
     },
     "execution_count": 21,
     "metadata": {},
     "output_type": "execute_result"
    }
   ],
   "source": [
    "l1*2"
   ]
  },
  {
   "cell_type": "markdown",
   "id": "ba041f78",
   "metadata": {},
   "source": [
    "10. What is difference between the list methods append() and insert()?"
   ]
  },
  {
   "cell_type": "raw",
   "id": "8f0081b5",
   "metadata": {},
   "source": [
    "ANS: python list.append method will add new element at the end of list and it will take one argument as an element"
   ]
  },
  {
   "cell_type": "code",
   "execution_count": 26,
   "id": "199b3942",
   "metadata": {},
   "outputs": [
    {
     "name": "stdout",
     "output_type": "stream",
     "text": [
      "[2, 3, 4, 'sam']\n"
     ]
    }
   ],
   "source": [
    "l1.append(\"sam\")\n",
    "print(l1)"
   ]
  },
  {
   "cell_type": "raw",
   "id": "acf0881a",
   "metadata": {},
   "source": [
    "list.insert() will take two argument first argument was index position and second arguments as element that we have to add that position"
   ]
  },
  {
   "cell_type": "code",
   "execution_count": 27,
   "id": "a35f2d8c",
   "metadata": {},
   "outputs": [
    {
     "name": "stdout",
     "output_type": "stream",
     "text": [
      "['new_element', 2, 3, 4, 'sam']\n"
     ]
    }
   ],
   "source": [
    "l1.insert(0,'new_element')\n",
    "print(l1)"
   ]
  },
  {
   "cell_type": "markdown",
   "id": "ec626c69",
   "metadata": {},
   "source": [
    "11. What are the two methods for removing items from a list?"
   ]
  },
  {
   "cell_type": "raw",
   "id": "af125326",
   "metadata": {},
   "source": [
    "ANS: In python there are two method to remove element 1) remove 2) pop "
   ]
  },
  {
   "cell_type": "raw",
   "id": "e63ed761",
   "metadata": {},
   "source": [
    "pop will remove last element by default and  it takes one argument as index number as optional and return element"
   ]
  },
  {
   "cell_type": "code",
   "execution_count": 29,
   "id": "14d52402",
   "metadata": {},
   "outputs": [
    {
     "data": {
      "text/plain": [
       "'sam'"
      ]
     },
     "execution_count": 29,
     "metadata": {},
     "output_type": "execute_result"
    }
   ],
   "source": [
    "l1.pop()"
   ]
  },
  {
   "cell_type": "raw",
   "id": "8a59fb53",
   "metadata": {},
   "source": [
    "python remove method will remove particular element that we passed as argument in list"
   ]
  },
  {
   "cell_type": "code",
   "execution_count": 30,
   "id": "9b21cf31",
   "metadata": {},
   "outputs": [],
   "source": [
    "l1.remove('new_element')"
   ]
  },
  {
   "cell_type": "markdown",
   "id": "ec7f14fd",
   "metadata": {},
   "source": [
    "12. Describe how list values and string values are identical."
   ]
  },
  {
   "cell_type": "raw",
   "id": "8f9f42fa",
   "metadata": {},
   "source": [
    "python list and string are identical because both are iterable,slicable,they can iterate using for loop,replication operators,concatination operator and we can also use mmbership operator "
   ]
  },
  {
   "cell_type": "markdown",
   "id": "0ef5bdd5",
   "metadata": {},
   "source": [
    "13. What's the difference between tuples and lists?"
   ]
  },
  {
   "cell_type": "markdown",
   "id": "85c4c9b9",
   "metadata": {},
   "source": [
    "tuple are immutable means we cant do any modification Tuples are generally faster than lists because they are stored in a more compact way in memory. However, the performance difference is usually negligible for small collections.tuple are enclosed by ()"
   ]
  },
  {
   "cell_type": "markdown",
   "id": "d6f0a64c",
   "metadata": {},
   "source": [
    "list are mutable means we can do modification with them  they are slower than tuple list are closed []"
   ]
  },
  {
   "cell_type": "markdown",
   "id": "26248ac4",
   "metadata": {},
   "source": [
    "14. How do you type a tuple value that only contains the integer 42?"
   ]
  },
  {
   "cell_type": "raw",
   "id": "c9d0bf0b",
   "metadata": {},
   "source": [
    "tuple are declear by () paranthese but we pass single value in paranthese that dont proper way to store single value into tuple that will show in blow"
   ]
  },
  {
   "cell_type": "code",
   "execution_count": 35,
   "id": "fa397a82",
   "metadata": {},
   "outputs": [
    {
     "name": "stdout",
     "output_type": "stream",
     "text": [
      "<class 'int'>\n",
      "<class 'tuple'>\n"
     ]
    }
   ],
   "source": [
    "t2=(42)\n",
    "print(type(t2))\n",
    "t3=(42,)\n",
    "print(type(t3))"
   ]
  },
  {
   "cell_type": "markdown",
   "id": "3704031e",
   "metadata": {},
   "source": [
    "15. How do you get a list value's tuple form? How do you get a tuple value's list form?"
   ]
  },
  {
   "cell_type": "raw",
   "id": "8344271a",
   "metadata": {},
   "source": [
    "To get a list value's tuple form, you can use the built-in tuple() function."
   ]
  },
  {
   "cell_type": "raw",
   "id": "19678e69",
   "metadata": {},
   "source": [
    "To get a tuple value's list form, you can use the built-in list() function"
   ]
  },
  {
   "cell_type": "markdown",
   "id": "6760c64a",
   "metadata": {},
   "source": [
    "16. Variables that \"contain\" list values are not necessarily lists themselves. Instead, what do they contain?"
   ]
  },
  {
   "cell_type": "raw",
   "id": "1d98af66",
   "metadata": {},
   "source": [
    "They contain references to list values"
   ]
  },
  {
   "cell_type": "markdown",
   "id": "1083b245",
   "metadata": {},
   "source": [
    "17. How do you distinguish between copy.copy() and copy.deepcopy()?"
   ]
  },
  {
   "cell_type": "raw",
   "id": "e9fe5d65",
   "metadata": {},
   "source": [
    "he copy.copy() function will do a shallow copy of a list,\n",
    "The copy.deepcopy() function will do a deep copy of a list. only copy.deepcopy() will duplicate any lists inside the list"
   ]
  }
 ],
 "metadata": {
  "kernelspec": {
   "display_name": "Python 3 (ipykernel)",
   "language": "python",
   "name": "python3"
  },
  "language_info": {
   "codemirror_mode": {
    "name": "ipython",
    "version": 3
   },
   "file_extension": ".py",
   "mimetype": "text/x-python",
   "name": "python",
   "nbconvert_exporter": "python",
   "pygments_lexer": "ipython3",
   "version": "3.9.13"
  }
 },
 "nbformat": 4,
 "nbformat_minor": 5
}
